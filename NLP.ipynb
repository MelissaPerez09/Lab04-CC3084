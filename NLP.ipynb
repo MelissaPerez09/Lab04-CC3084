{
 "cells": [
  {
   "cell_type": "markdown",
   "metadata": {},
   "source": [
    "# Laboratorio 04 - Procesamiento de Lenguaje Natural (NLP)\n",
    "\n",
    "Integrantes:\n",
    "- José Pablo Kiesling Lange, 21581\n",
    "- Melissa Pérez Alarcón, 21385"
   ]
  },
  {
   "cell_type": "markdown",
   "metadata": {},
   "source": [
    "#### Configuración de GPU"
   ]
  },
  {
   "cell_type": "code",
   "execution_count": 1,
   "metadata": {},
   "outputs": [],
   "source": [
    "import tensorflow as tf\n",
    "\n",
    "gpus = tf.config.experimental.list_physical_devices('GPU')\n",
    "if gpus:\n",
    "    for gpu in gpus:\n",
    "        tf.config.experimental.set_memory_growth(gpu, True)"
   ]
  },
  {
   "cell_type": "markdown",
   "metadata": {},
   "source": [
    "### Librerías"
   ]
  },
  {
   "cell_type": "code",
   "execution_count": 2,
   "metadata": {},
   "outputs": [],
   "source": [
    "import numpy as np\n",
    "import matplotlib.pyplot as plt\n",
    "\n",
    "import tensorflow as tf\n",
    "from tensorflow.keras.preprocessing import sequence\n",
    "from tensorflow.keras.layers import Input, LSTM, Dense, Dropout, Embedding, concatenate\n",
    "from tensorflow.keras.models import Model\n",
    "from tensorflow.keras.layers import LSTM\n",
    "from tensorflow.keras.datasets import imdb\n",
    "\n",
    "\n",
    "import nltk\n",
    "from nltk.corpus import opinion_lexicon"
   ]
  },
  {
   "cell_type": "code",
   "execution_count": 3,
   "metadata": {},
   "outputs": [],
   "source": [
    "maxlen = 500\n",
    "num_words = 50000"
   ]
  },
  {
   "cell_type": "markdown",
   "metadata": {},
   "source": [
    "### Importación de Datos"
   ]
  },
  {
   "cell_type": "code",
   "execution_count": 4,
   "metadata": {},
   "outputs": [],
   "source": [
    "(X_train, y_train), (X_test, y_test) = imdb.load_data(\n",
    "    num_words=num_words, \n",
    "    seed=113,\n",
    "    start_char=1,\n",
    "    oov_char=2,\n",
    "    index_from=3)"
   ]
  },
  {
   "cell_type": "markdown",
   "metadata": {},
   "source": [
    "### Pre-procesamiento"
   ]
  },
  {
   "cell_type": "markdown",
   "metadata": {},
   "source": [
    "#### Secuenciación y relleno de críticas"
   ]
  },
  {
   "cell_type": "code",
   "execution_count": 5,
   "metadata": {},
   "outputs": [],
   "source": [
    "X_train = sequence.pad_sequences(X_train, maxlen = maxlen)\n",
    "X_test = sequence.pad_sequences(X_test, maxlen = maxlen)"
   ]
  },
  {
   "cell_type": "markdown",
   "metadata": {},
   "source": [
    "#### Extracción de features"
   ]
  },
  {
   "cell_type": "markdown",
   "metadata": {},
   "source": [
    "##### Longitud de la crítica"
   ]
  },
  {
   "cell_type": "code",
   "execution_count": 6,
   "metadata": {},
   "outputs": [],
   "source": [
    "train_len = [len(x) for x in X_train]\n",
    "test_len = [len(x) for x in X_test]"
   ]
  },
  {
   "cell_type": "markdown",
   "metadata": {},
   "source": [
    "##### Ratio de palabras positivas/negativas"
   ]
  },
  {
   "cell_type": "code",
   "execution_count": 7,
   "metadata": {},
   "outputs": [],
   "source": [
    "##############################################\n",
    "#      DESCARGA DE CORPUS DE OPINIONES\n",
    "# OJO: Solo se descarga una vez\n",
    "# Descomentar SOLO si no se tiene descargado\n",
    "# nltk.download('opinion_lexicon')\n",
    "##############################################"
   ]
  },
  {
   "cell_type": "code",
   "execution_count": 8,
   "metadata": {},
   "outputs": [],
   "source": [
    "positive_words = set(opinion_lexicon.positive())\n",
    "negative_words = set(opinion_lexicon.negative())"
   ]
  },
  {
   "cell_type": "code",
   "execution_count": 9,
   "metadata": {},
   "outputs": [],
   "source": [
    "word_index = imdb.get_word_index()\n",
    "index_to_word = {index: word for word, index in word_index.items()}"
   ]
  },
  {
   "cell_type": "code",
   "execution_count": 10,
   "metadata": {},
   "outputs": [],
   "source": [
    "# Función para convertir una secuencia de índices a palabras\n",
    "def decode_review(review):\n",
    "    return [index_to_word.get(i - 3, '?') for i in review]"
   ]
  },
  {
   "cell_type": "code",
   "execution_count": 11,
   "metadata": {},
   "outputs": [],
   "source": [
    "# Función para calcular proporción de palabras positivas/negativas\n",
    "def calculate_word_proportion(review, word_list):\n",
    "    review_words = decode_review(review)\n",
    "    count = sum([1 for word in review_words if word in word_list])\n",
    "    return count / len(review_words) if len(review_words) > 0 else 0"
   ]
  },
  {
   "cell_type": "code",
   "execution_count": 12,
   "metadata": {},
   "outputs": [],
   "source": [
    "positive_proportions_train = [calculate_word_proportion(x, positive_words) for x in X_train]\n",
    "negative_proportions_train = [calculate_word_proportion(x, negative_words) for x in X_train]"
   ]
  },
  {
   "cell_type": "code",
   "execution_count": 13,
   "metadata": {},
   "outputs": [],
   "source": [
    "positive_proportions_test = [calculate_word_proportion(x, positive_words) for x in X_test]\n",
    "negative_proportions_test = [calculate_word_proportion(x, negative_words) for x in X_test]"
   ]
  },
  {
   "cell_type": "code",
   "execution_count": 14,
   "metadata": {},
   "outputs": [
    {
     "data": {
      "text/plain": [
       "<matplotlib.legend.Legend at 0x12529703ee0>"
      ]
     },
     "execution_count": 14,
     "metadata": {},
     "output_type": "execute_result"
    },
    {
     "data": {
      "image/png": "[encoded data removed]",
      "text/plain": [
       "<Figure size 1000x500 with 2 Axes>"
      ]
     },
     "metadata": {},
     "output_type": "display_data"
    }
   ],
   "source": [
    "plt.figure(figsize=(10, 5))\n",
    "plt.subplot(1, 2, 1)\n",
    "plt.hist(positive_proportions_train, bins=20, alpha=0.5, label='Train')\n",
    "plt.hist(positive_proportions_test, bins=20, alpha=0.5, label='Test')\n",
    "plt.title('Positive words proportion')\n",
    "plt.legend()\n",
    "\n",
    "plt.subplot(1, 2, 2)\n",
    "plt.hist(negative_proportions_train, bins=20, alpha=0.5, label='Train')\n",
    "plt.hist(negative_proportions_test, bins=20, alpha=0.5, label='Test')\n",
    "plt.title('Negative words proportion')\n",
    "plt.legend()"
   ]
  },
  {
   "cell_type": "markdown",
   "metadata": {},
   "source": [
    "##### Diverisad de palabras"
   ]
  },
  {
   "cell_type": "code",
   "execution_count": 15,
   "metadata": {},
   "outputs": [],
   "source": [
    "def calculate_lexical_diversity(review):\n",
    "    review_words = decode_review(review)\n",
    "    unique_words = set(review_words)\n",
    "    return len(unique_words) / len(review_words) if len(review_words) > 0 else 0"
   ]
  },
  {
   "cell_type": "code",
   "execution_count": 16,
   "metadata": {},
   "outputs": [],
   "source": [
    "lexical_diversity_train = [calculate_lexical_diversity(x) for x in X_train]\n",
    "lexical_diversity_test = [calculate_lexical_diversity(x) for x in X_test]"
   ]
  },
  {
   "cell_type": "code",
   "execution_count": 17,
   "metadata": {},
   "outputs": [
    {
     "data": {
      "text/plain": [
       "<matplotlib.legend.Legend at 0x12579898f10>"
      ]
     },
     "execution_count": 17,
     "metadata": {},
     "output_type": "execute_result"
    },
    {
     "data": {
      "image/png": "[encoded data removed]",
      "text/plain": [
       "<Figure size 1000x500 with 1 Axes>"
      ]
     },
     "metadata": {},
     "output_type": "display_data"
    }
   ],
   "source": [
    "plt.figure(figsize=(10, 5))\n",
    "plt.subplot(1, 2, 1)\n",
    "plt.hist(lexical_diversity_train, bins=20, alpha=0.5, label='Train')\n",
    "plt.hist(lexical_diversity_test, bins=20, alpha=0.5, label='Test')\n",
    "plt.title('Lexical diversity')\n",
    "plt.legend()"
   ]
  },
  {
   "cell_type": "code",
   "execution_count": 18,
   "metadata": {},
   "outputs": [],
   "source": [
    "additional_features_train = np.column_stack((positive_proportions_train, negative_proportions_train, train_len, lexical_diversity_train))\n",
    "additional_features_test = np.column_stack((positive_proportions_test, negative_proportions_test, test_len, lexical_diversity_test))"
   ]
  },
  {
   "cell_type": "markdown",
   "metadata": {},
   "source": [
    "#### Modelo"
   ]
  },
  {
   "cell_type": "code",
   "execution_count": 19,
   "metadata": {},
   "outputs": [],
   "source": [
    "embedding_size = 128\n",
    "dropout_rate = 0.1"
   ]
  },
  {
   "cell_type": "code",
   "execution_count": 20,
   "metadata": {},
   "outputs": [],
   "source": [
    "# Input para las secuencias de palabras\n",
    "sequence_input = Input(shape=(maxlen,), name='sequence_input')\n",
    "embedding_layer = Embedding(num_words, embedding_size)(sequence_input)\n",
    "\n",
    "# Primera capa LSTM\n",
    "lstm_layer1 = LSTM(64, return_sequences=True)(embedding_layer)\n",
    "dropout_layer1 = Dropout(dropout_rate)(lstm_layer1)\n",
    "\n",
    "# Segunda capa LSTM\n",
    "lstm_layer2 = LSTM(64)(dropout_layer1)\n",
    "dropout_layer2 = Dropout(dropout_rate)(lstm_layer2)\n",
    "\n",
    "# Input para las características adicionales\n",
    "additional_input = Input(shape=(4,), name='additional_input')\n",
    "\n",
    "# Concatenar las características adicionales con la salida de LSTM\n",
    "merged = concatenate([dropout_layer2, additional_input])\n",
    "\n",
    "# Capa densa\n",
    "dense_layer = Dense(64, activation='relu')(merged)\n",
    "dropout_layer3 = Dropout(dropout_rate)(dense_layer)\n",
    "\n",
    "# Capa de salida\n",
    "output_layer = Dense(1, activation='sigmoid')(dropout_layer3)"
   ]
  },
  {
   "cell_type": "code",
   "execution_count": 21,
   "metadata": {},
   "outputs": [],
   "source": [
    "model = Model(inputs=[sequence_input, additional_input], outputs=output_layer)"
   ]
  },
  {
   "cell_type": "code",
   "execution_count": 22,
   "metadata": {},
   "outputs": [],
   "source": [
    "model.compile(optimizer='adam', loss='binary_crossentropy', metrics=['accuracy'])"
   ]
  },
  {
   "cell_type": "code",
   "execution_count": 23,
   "metadata": {},
   "outputs": [
    {
     "name": "stdout",
     "output_type": "stream",
     "text": [
      "Model: \"model\"\n",
      "__________________________________________________________________________________________________\n",
      " Layer (type)                   Output Shape         Param #     Connected to                     \n",
      "==================================================================================================\n",
      " sequence_input (InputLayer)    [(None, 500)]        0           []                               \n",
      "                                                                                                  \n",
      " embedding (Embedding)          (None, 500, 128)     6400000     ['sequence_input[0][0]']         \n",
      "                                                                                                  \n",
      " lstm (LSTM)                    (None, 500, 64)      49408       ['embedding[0][0]']              \n",
      "                                                                                                  \n",
      " dropout (Dropout)              (None, 500, 64)      0           ['lstm[0][0]']                   \n",
      "                                                                                                  \n",
      " lstm_1 (LSTM)                  (None, 64)           33024       ['dropout[0][0]']                \n",
      "                                                                                                  \n",
      " dropout_1 (Dropout)            (None, 64)           0           ['lstm_1[0][0]']                 \n",
      "                                                                                                  \n",
      " additional_input (InputLayer)  [(None, 4)]          0           []                               \n",
      "                                                                                                  \n",
      " concatenate (Concatenate)      (None, 68)           0           ['dropout_1[0][0]',              \n",
      "                                                                  'additional_input[0][0]']       \n",
      "                                                                                                  \n",
      " dense (Dense)                  (None, 64)           4416        ['concatenate[0][0]']            \n",
      "                                                                                                  \n",
      " dropout_2 (Dropout)            (None, 64)           0           ['dense[0][0]']                  \n",
      "                                                                                                  \n",
      " dense_1 (Dense)                (None, 1)            65          ['dropout_2[0][0]']              \n",
      "                                                                                                  \n",
      "==================================================================================================\n",
      "Total params: 6,486,913\n",
      "Trainable params: 6,486,913\n",
      "Non-trainable params: 0\n",
      "__________________________________________________________________________________________________\n"
     ]
    }
   ],
   "source": [
    "model.summary()"
   ]
  },
  {
   "cell_type": "markdown",
   "metadata": {},
   "source": [
    "#### Entrenamiento"
   ]
  },
  {
   "cell_type": "code",
   "execution_count": 24,
   "metadata": {},
   "outputs": [],
   "source": [
    "from tensorflow.keras.callbacks import ModelCheckpoint, EarlyStopping"
   ]
  },
  {
   "cell_type": "code",
   "execution_count": 25,
   "metadata": {},
   "outputs": [],
   "source": [
    "model_save_path = 'sentiment_lstm_model.h5'"
   ]
  },
  {
   "cell_type": "code",
   "execution_count": 26,
   "metadata": {},
   "outputs": [],
   "source": [
    "checkpoint = ModelCheckpoint(model_save_path, save_best_only=True, monitor='val_accuracy', mode='max', verbose=1)"
   ]
  },
  {
   "cell_type": "code",
   "execution_count": 27,
   "metadata": {},
   "outputs": [],
   "source": [
    "early_stopping = EarlyStopping(monitor='val_loss', patience=3, restore_best_weights=True)"
   ]
  },
  {
   "cell_type": "code",
   "execution_count": 28,
   "metadata": {},
   "outputs": [
    {
     "name": "stdout",
     "output_type": "stream",
     "text": [
      "Epoch 1/10\n",
      "\n",
      "Epoch 1: val_accuracy improved from -inf to 0.50000, saving model to sentiment_lstm_model.h5\n",
      "782/782 - 122s - loss: 4.6698 - accuracy: 0.5042 - val_loss: 0.7871 - val_accuracy: 0.5000 - 122s/epoch - 156ms/step\n",
      "Epoch 2/10\n",
      "\n",
      "Epoch 2: val_accuracy improved from 0.50000 to 0.78368, saving model to sentiment_lstm_model.h5\n",
      "782/782 - 118s - loss: 0.7268 - accuracy: 0.5483 - val_loss: 0.4862 - val_accuracy: 0.7837 - 118s/epoch - 150ms/step\n",
      "Epoch 3/10\n",
      "\n",
      "Epoch 3: val_accuracy improved from 0.78368 to 0.86296, saving model to sentiment_lstm_model.h5\n",
      "782/782 - 119s - loss: 0.3668 - accuracy: 0.8522 - val_loss: 0.3560 - val_accuracy: 0.8630 - 119s/epoch - 152ms/step\n",
      "Epoch 4/10\n",
      "\n",
      "Epoch 4: val_accuracy improved from 0.86296 to 0.87872, saving model to sentiment_lstm_model.h5\n",
      "782/782 - 120s - loss: 0.1833 - accuracy: 0.9380 - val_loss: 0.3219 - val_accuracy: 0.8787 - 120s/epoch - 153ms/step\n",
      "Epoch 5/10\n",
      "\n",
      "Epoch 5: val_accuracy did not improve from 0.87872\n",
      "782/782 - 120s - loss: 0.0922 - accuracy: 0.9736 - val_loss: 0.4396 - val_accuracy: 0.8660 - 120s/epoch - 153ms/step\n",
      "Epoch 6/10\n",
      "\n",
      "Epoch 6: val_accuracy did not improve from 0.87872\n",
      "782/782 - 118s - loss: 0.0525 - accuracy: 0.9871 - val_loss: 0.5405 - val_accuracy: 0.8666 - 118s/epoch - 151ms/step\n",
      "Epoch 7/10\n",
      "\n",
      "Epoch 7: val_accuracy did not improve from 0.87872\n",
      "782/782 - 118s - loss: 0.0346 - accuracy: 0.9933 - val_loss: 0.6288 - val_accuracy: 0.8610 - 118s/epoch - 151ms/step\n"
     ]
    }
   ],
   "source": [
    "history = model.fit([X_train, additional_features_train], y_train, \n",
    "                    epochs=10, \n",
    "                    batch_size=32, \n",
    "                    validation_data=([X_test, additional_features_test], y_test), \n",
    "                    verbose=2,\n",
    "                    callbacks=[checkpoint, early_stopping])"
   ]
  },
  {
   "cell_type": "code",
   "execution_count": 29,
   "metadata": {},
   "outputs": [],
   "source": [
    "##############################################\n",
    "# SI SE TIENE EL MODELO GUARDADO, SE PUEDE\n",
    "# CARGAR DIRECTAMENTE\n",
    "# ES DECIR, NO ES NECESARIO ENTRENARLO\n",
    "##############################################"
   ]
  },
  {
   "cell_type": "code",
   "execution_count": 30,
   "metadata": {},
   "outputs": [],
   "source": [
    "model = tf.keras.models.load_model(model_save_path)"
   ]
  },
  {
   "cell_type": "code",
   "execution_count": 31,
   "metadata": {},
   "outputs": [
    {
     "name": "stdout",
     "output_type": "stream",
     "text": [
      "782/782 - 37s - loss: 0.3219 - accuracy: 0.8787 - 37s/epoch - 48ms/step\n"
     ]
    }
   ],
   "source": [
    "test_loss, test_accuracy = model.evaluate(\n",
    "    [X_test, additional_features_test],\n",
    "    y_test, \n",
    "    batch_size=32,\n",
    "    verbose=2\n",
    ")"
   ]
  },
  {
   "cell_type": "code",
   "execution_count": 32,
   "metadata": {},
   "outputs": [
    {
     "name": "stdout",
     "output_type": "stream",
     "text": [
      "Loss en test: 0.32189276814460754\n",
      "Accuracy en test: 0.8787199854850769\n"
     ]
    }
   ],
   "source": [
    "print(f\"Loss en test: {test_loss}\")\n",
    "print(f\"Accuracy en test: {test_accuracy}\")"
   ]
  }
 ],
 "metadata": {
  "kernelspec": {
   "display_name": ".venv",
   "language": "python",
   "name": "python3"
  },
  "language_info": {
   "codemirror_mode": {
    "name": "ipython",
    "version": 3
   },
   "file_extension": ".py",
   "mimetype": "text/x-python",
   "name": "python",
   "nbconvert_exporter": "python",
   "pygments_lexer": "ipython3",
   "version": "3.10.14"
  }
 },
 "nbformat": 4,
 "nbformat_minor": 2
}
